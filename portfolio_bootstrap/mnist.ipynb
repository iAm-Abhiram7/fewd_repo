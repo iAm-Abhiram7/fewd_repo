{
  "nbformat": 4,
  "nbformat_minor": 0,
  "metadata": {
    "colab": {
      "provenance": []
    },
    "kernelspec": {
      "name": "python3",
      "display_name": "Python 3"
    },
    "language_info": {
      "name": "python"
    }
  },
  "cells": [
    {
      "cell_type": "code",
      "execution_count": 51,
      "metadata": {
        "id": "krRx359yxGB7"
      },
      "outputs": [],
      "source": [
        "import tensorflow as tf\n",
        "from tensorflow import keras\n",
        "from tensorflow.keras import layers, optimizers, datasets\n",
        "import numpy as np\n",
        "import matplotlib.pyplot as plt"
      ]
    },
    {
      "cell_type": "code",
      "source": [
        "(x_train, y_train),(x_test, y_test) = datasets.mnist.load_data()"
      ],
      "metadata": {
        "id": "ByzNngHRx7BK"
      },
      "execution_count": 52,
      "outputs": []
    },
    {
      "cell_type": "code",
      "source": [
        "x_train = 2*tf.convert_to_tensor(x_train, dtype=tf.float32)/255.-1\n",
        "x_test = 2*tf.convert_to_tensor(x_test, dtype=tf.float32)/255.-1"
      ],
      "metadata": {
        "id": "yRUYWocAyFGr"
      },
      "execution_count": 53,
      "outputs": []
    },
    {
      "cell_type": "code",
      "source": [
        "y_train = tf.cast(y_train, dtype=tf.int32)\n",
        "y_test = tf.cast(y_test, dtype = tf.int32)\n",
        "y_train, y_test"
      ],
      "metadata": {
        "colab": {
          "base_uri": "https://localhost:8080/"
        },
        "id": "C25j_tC4yiED",
        "outputId": "4445748e-54e2-4641-c525-de8be61037bd"
      },
      "execution_count": 54,
      "outputs": [
        {
          "output_type": "execute_result",
          "data": {
            "text/plain": [
              "(<tf.Tensor: shape=(60000,), dtype=int32, numpy=array([5, 0, 4, ..., 5, 6, 8], dtype=int32)>,\n",
              " <tf.Tensor: shape=(10000,), dtype=int32, numpy=array([7, 2, 1, ..., 4, 5, 6], dtype=int32)>)"
            ]
          },
          "metadata": {},
          "execution_count": 54
        }
      ]
    },
    {
      "cell_type": "code",
      "source": [
        "y_train = tf.one_hot(y_train, depth=10)\n",
        "y_test = tf.one_hot(y_test, depth=10)"
      ],
      "metadata": {
        "id": "d2tGiHQgzOjz"
      },
      "execution_count": 55,
      "outputs": []
    },
    {
      "cell_type": "code",
      "source": [
        "train_dataset = tf.data.Dataset.from_tensor_slices((x_train,y_train)).batch(512)\n",
        "x_train.shape\n",
        "x_test.shape"
      ],
      "metadata": {
        "colab": {
          "base_uri": "https://localhost:8080/"
        },
        "id": "kPODgs7yz89H",
        "outputId": "23a263e5-b108-4d15-c08e-d1eccefa97d1"
      },
      "execution_count": 56,
      "outputs": [
        {
          "output_type": "execute_result",
          "data": {
            "text/plain": [
              "TensorShape([10000, 28, 28])"
            ]
          },
          "metadata": {},
          "execution_count": 56
        }
      ]
    },
    {
      "cell_type": "code",
      "source": [
        "model = keras.Sequential([\n",
        "    layers.Dense(256, activation='relu'),\n",
        "    layers.Dense(128, activation='relu'),\n",
        "    layers.Dense(128, activation='relu'),\n",
        "    layers.Dense(10, activation='softmax')\n",
        "])"
      ],
      "metadata": {
        "id": "2ejxbGRt0tts"
      },
      "execution_count": 57,
      "outputs": []
    },
    {
      "cell_type": "code",
      "source": [
        "optimizer=tf.keras.optimizers.Adam(learning_rate=0.003)"
      ],
      "metadata": {
        "id": "2So9Heau12bR"
      },
      "execution_count": 58,
      "outputs": []
    },
    {
      "cell_type": "code",
      "source": [
        "loss_fn = tf.keras.losses.CategoricalCrossentropy(from_logits=False)\n",
        "model.compile(optimizer=optimizer, loss=loss_fn, metrics=['accuracy'])"
      ],
      "metadata": {
        "id": "L48oRN_B2mOW"
      },
      "execution_count": 61,
      "outputs": []
    },
    {
      "cell_type": "code",
      "source": [
        "for epoch in range(20):\n",
        "  for batch_x, batch_y in train_dataset:\n",
        "    with tf.GradientTape() as tape:\n",
        "      batch_x = tf.reshape(batch_x, (-1,28*28))\n",
        "      out = model(batch_x)\n",
        "      loss = loss_fn(batch_y, out)\n",
        "    grads = tape.gradient(loss, model.trainable_variables)\n",
        "    optimizer.apply_gradients(zip(grads, model.trainable_variables))\n",
        "  print(f\"Epoch : {epoch+1}, Loss: {loss.numpy():.4f}\")"
      ],
      "metadata": {
        "colab": {
          "base_uri": "https://localhost:8080/"
        },
        "id": "K1qtAVvG2zs8",
        "outputId": "4f9babc4-f853-4c71-cf16-626057795733"
      },
      "execution_count": 60,
      "outputs": [
        {
          "output_type": "stream",
          "name": "stdout",
          "text": [
            "Epoch : 1, Loss: 0.3104\n",
            "Epoch : 2, Loss: 0.2667\n",
            "Epoch : 3, Loss: 0.2299\n",
            "Epoch : 4, Loss: 0.1915\n",
            "Epoch : 5, Loss: 0.1451\n",
            "Epoch : 6, Loss: 0.1607\n",
            "Epoch : 7, Loss: 0.1062\n",
            "Epoch : 8, Loss: 0.0814\n",
            "Epoch : 9, Loss: 0.0374\n",
            "Epoch : 10, Loss: 0.0686\n",
            "Epoch : 11, Loss: 0.0710\n",
            "Epoch : 12, Loss: 0.0088\n",
            "Epoch : 13, Loss: 0.0113\n",
            "Epoch : 14, Loss: 0.0319\n",
            "Epoch : 15, Loss: 0.0142\n",
            "Epoch : 16, Loss: 0.0472\n",
            "Epoch : 17, Loss: 0.0007\n",
            "Epoch : 18, Loss: 0.0073\n",
            "Epoch : 19, Loss: 0.0004\n",
            "Epoch : 20, Loss: 0.0122\n"
          ]
        }
      ]
    },
    {
      "cell_type": "code",
      "source": [
        "x_test_flattened = tf.reshape(x_test, (-1,28*28))\n",
        "test_loss, test_Acc = model.evaluate(x_test_flattened, y_test)\n",
        "print(f\"test_loss: {test_loss}\")\n",
        "print(f\"test_Acc: {test_Acc}\")"
      ],
      "metadata": {
        "colab": {
          "base_uri": "https://localhost:8080/"
        },
        "id": "f1ieEu-W37yj",
        "outputId": "0d6e8aed-4479-4549-96a0-013792899cf6"
      },
      "execution_count": 63,
      "outputs": [
        {
          "output_type": "stream",
          "name": "stdout",
          "text": [
            "\u001b[1m313/313\u001b[0m \u001b[32m━━━━━━━━━━━━━━━━━━━━\u001b[0m\u001b[37m\u001b[0m \u001b[1m1s\u001b[0m 3ms/step - accuracy: 0.9567 - loss: 0.1930\n",
            "test_loss: 0.1461333930492401\n",
            "test_Acc: 0.9656999707221985\n"
          ]
        }
      ]
    },
    {
      "cell_type": "code",
      "source": [
        "y_test_np = y_test.numpy()"
      ],
      "metadata": {
        "id": "pXLoG8Sr8Ypl"
      },
      "execution_count": 64,
      "outputs": []
    },
    {
      "cell_type": "code",
      "source": [
        "def predict_digit(index):\n",
        "  sample_image = x_test[index]\n",
        "  actual_label = np.argmax(y_test_np[index])\n",
        "  sample_image_flattened = tf.reshape(sample_image, (1,28*28))\n",
        "  prediction = model(sample_image_flattened).numpy()\n",
        "  predicted_label = np.argmax(prediction)\n",
        "  return prediction, actual_label, predicted_label\n"
      ],
      "metadata": {
        "id": "5nrIG_zi-T2J"
      },
      "execution_count": 70,
      "outputs": []
    },
    {
      "cell_type": "code",
      "source": [
        "prediction, actual_label, predicted_label = predict_digit(0)\n",
        "confidence = np.max(prediction)*100\n",
        "print(f\"Actual label: {actual_label}\")\n",
        "print(f\"Predicted label: {predicted_label}\")\n",
        "print(f\"Confidence: {confidence:.2f}%\")"
      ],
      "metadata": {
        "colab": {
          "base_uri": "https://localhost:8080/"
        },
        "id": "oUcbL6Mv-bDu",
        "outputId": "e4380de6-e85c-4fc7-eb10-7c41069381c9"
      },
      "execution_count": 71,
      "outputs": [
        {
          "output_type": "stream",
          "name": "stdout",
          "text": [
            "Actual label: 7\n",
            "Predicted label: 7\n",
            "Confidence: 100.00%\n"
          ]
        }
      ]
    },
    {
      "cell_type": "code",
      "source": [
        "while True:\n",
        "  try:\n",
        "    index = int(input(\"Enter the index of the sample image: \"))\n",
        "    prediction, actual_label, predicted_label = predict_digit(index)\n",
        "    confidence = np.max(prediction)*100\n",
        "    print(f\"Actual label: {actual_label}\")\n",
        "    print(f\"Predicted label: {predicted_label}\")\n",
        "    print(f\"Confidence: {confidence:.2f}%\")\n",
        "  except ValueError:\n",
        "    print(\"Invalid input. Please enter an integer index.\")\n",
        "  except IndexError:\n",
        "    print(\"Invalid index. Please enter a valid index.\")"
      ],
      "metadata": {
        "colab": {
          "base_uri": "https://localhost:8080/",
          "height": 763
        },
        "id": "KK_UI8d4-gxT",
        "outputId": "9c23095d-83e0-4d78-9458-622146f1caa0"
      },
      "execution_count": 72,
      "outputs": [
        {
          "output_type": "stream",
          "name": "stdout",
          "text": [
            "Enter the index of the sample image: 10\n",
            "Actual label: 0\n",
            "Predicted label: 0\n",
            "Confidence: 100.00%\n",
            "Enter the index of the sample image: 5\n",
            "Actual label: 1\n",
            "Predicted label: 1\n",
            "Confidence: 99.92%\n",
            "Enter the index of the sample image: 9\n",
            "Actual label: 9\n",
            "Predicted label: 9\n",
            "Confidence: 100.00%\n",
            "Enter the index of the sample image: 7\n",
            "Actual label: 9\n",
            "Predicted label: 9\n",
            "Confidence: 100.00%\n",
            "Enter the index of the sample image: -1\n",
            "Actual label: 6\n",
            "Predicted label: 6\n",
            "Confidence: 100.00%\n",
            "Enter the index of the sample image: ll\n",
            "Invalid input. Please enter an integer index.\n"
          ]
        },
        {
          "output_type": "error",
          "ename": "KeyboardInterrupt",
          "evalue": "Interrupted by user",
          "traceback": [
            "\u001b[0;31m---------------------------------------------------------------------------\u001b[0m",
            "\u001b[0;31mKeyboardInterrupt\u001b[0m                         Traceback (most recent call last)",
            "\u001b[0;32m<ipython-input-72-d0c1801075f6>\u001b[0m in \u001b[0;36m<cell line: 0>\u001b[0;34m()\u001b[0m\n\u001b[1;32m      1\u001b[0m \u001b[0;32mwhile\u001b[0m \u001b[0;32mTrue\u001b[0m\u001b[0;34m:\u001b[0m\u001b[0;34m\u001b[0m\u001b[0;34m\u001b[0m\u001b[0m\n\u001b[1;32m      2\u001b[0m   \u001b[0;32mtry\u001b[0m\u001b[0;34m:\u001b[0m\u001b[0;34m\u001b[0m\u001b[0;34m\u001b[0m\u001b[0m\n\u001b[0;32m----> 3\u001b[0;31m     \u001b[0mindex\u001b[0m \u001b[0;34m=\u001b[0m \u001b[0mint\u001b[0m\u001b[0;34m(\u001b[0m\u001b[0minput\u001b[0m\u001b[0;34m(\u001b[0m\u001b[0;34m\"Enter the index of the sample image: \"\u001b[0m\u001b[0;34m)\u001b[0m\u001b[0;34m)\u001b[0m\u001b[0;34m\u001b[0m\u001b[0;34m\u001b[0m\u001b[0m\n\u001b[0m\u001b[1;32m      4\u001b[0m     \u001b[0mprediction\u001b[0m\u001b[0;34m,\u001b[0m \u001b[0mactual_label\u001b[0m\u001b[0;34m,\u001b[0m \u001b[0mpredicted_label\u001b[0m \u001b[0;34m=\u001b[0m \u001b[0mpredict_digit\u001b[0m\u001b[0;34m(\u001b[0m\u001b[0mindex\u001b[0m\u001b[0;34m)\u001b[0m\u001b[0;34m\u001b[0m\u001b[0;34m\u001b[0m\u001b[0m\n\u001b[1;32m      5\u001b[0m     \u001b[0mconfidence\u001b[0m \u001b[0;34m=\u001b[0m \u001b[0mnp\u001b[0m\u001b[0;34m.\u001b[0m\u001b[0mmax\u001b[0m\u001b[0;34m(\u001b[0m\u001b[0mprediction\u001b[0m\u001b[0;34m)\u001b[0m\u001b[0;34m*\u001b[0m\u001b[0;36m100\u001b[0m\u001b[0;34m\u001b[0m\u001b[0;34m\u001b[0m\u001b[0m\n",
            "\u001b[0;32m/usr/local/lib/python3.11/dist-packages/ipykernel/kernelbase.py\u001b[0m in \u001b[0;36mraw_input\u001b[0;34m(self, prompt)\u001b[0m\n\u001b[1;32m   1175\u001b[0m                 \u001b[0;34m\"raw_input was called, but this frontend does not support input requests.\"\u001b[0m\u001b[0;34m\u001b[0m\u001b[0;34m\u001b[0m\u001b[0m\n\u001b[1;32m   1176\u001b[0m             )\n\u001b[0;32m-> 1177\u001b[0;31m         return self._input_request(\n\u001b[0m\u001b[1;32m   1178\u001b[0m             \u001b[0mstr\u001b[0m\u001b[0;34m(\u001b[0m\u001b[0mprompt\u001b[0m\u001b[0;34m)\u001b[0m\u001b[0;34m,\u001b[0m\u001b[0;34m\u001b[0m\u001b[0;34m\u001b[0m\u001b[0m\n\u001b[1;32m   1179\u001b[0m             \u001b[0mself\u001b[0m\u001b[0;34m.\u001b[0m\u001b[0m_parent_ident\u001b[0m\u001b[0;34m[\u001b[0m\u001b[0;34m\"shell\"\u001b[0m\u001b[0;34m]\u001b[0m\u001b[0;34m,\u001b[0m\u001b[0;34m\u001b[0m\u001b[0;34m\u001b[0m\u001b[0m\n",
            "\u001b[0;32m/usr/local/lib/python3.11/dist-packages/ipykernel/kernelbase.py\u001b[0m in \u001b[0;36m_input_request\u001b[0;34m(self, prompt, ident, parent, password)\u001b[0m\n\u001b[1;32m   1217\u001b[0m             \u001b[0;32mexcept\u001b[0m \u001b[0mKeyboardInterrupt\u001b[0m\u001b[0;34m:\u001b[0m\u001b[0;34m\u001b[0m\u001b[0;34m\u001b[0m\u001b[0m\n\u001b[1;32m   1218\u001b[0m                 \u001b[0;31m# re-raise KeyboardInterrupt, to truncate traceback\u001b[0m\u001b[0;34m\u001b[0m\u001b[0;34m\u001b[0m\u001b[0m\n\u001b[0;32m-> 1219\u001b[0;31m                 \u001b[0;32mraise\u001b[0m \u001b[0mKeyboardInterrupt\u001b[0m\u001b[0;34m(\u001b[0m\u001b[0;34m\"Interrupted by user\"\u001b[0m\u001b[0;34m)\u001b[0m \u001b[0;32mfrom\u001b[0m \u001b[0;32mNone\u001b[0m\u001b[0;34m\u001b[0m\u001b[0;34m\u001b[0m\u001b[0m\n\u001b[0m\u001b[1;32m   1220\u001b[0m             \u001b[0;32mexcept\u001b[0m \u001b[0mException\u001b[0m\u001b[0;34m:\u001b[0m\u001b[0;34m\u001b[0m\u001b[0;34m\u001b[0m\u001b[0m\n\u001b[1;32m   1221\u001b[0m                 \u001b[0mself\u001b[0m\u001b[0;34m.\u001b[0m\u001b[0mlog\u001b[0m\u001b[0;34m.\u001b[0m\u001b[0mwarning\u001b[0m\u001b[0;34m(\u001b[0m\u001b[0;34m\"Invalid Message:\"\u001b[0m\u001b[0;34m,\u001b[0m \u001b[0mexc_info\u001b[0m\u001b[0;34m=\u001b[0m\u001b[0;32mTrue\u001b[0m\u001b[0;34m)\u001b[0m\u001b[0;34m\u001b[0m\u001b[0;34m\u001b[0m\u001b[0m\n",
            "\u001b[0;31mKeyboardInterrupt\u001b[0m: Interrupted by user"
          ]
        }
      ]
    },
    {
      "cell_type": "code",
      "source": [],
      "metadata": {
        "id": "pUJpsIYKA9wP"
      },
      "execution_count": null,
      "outputs": []
    }
  ]
}